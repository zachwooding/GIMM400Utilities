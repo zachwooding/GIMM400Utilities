{
  "nbformat": 4,
  "nbformat_minor": 0,
  "metadata": {
    "colab": {
      "name": "FileSorter.ipynb",
      "provenance": [],
      "collapsed_sections": [],
      "include_colab_link": true
    },
    "kernelspec": {
      "name": "python3",
      "display_name": "Python 3"
    }
  },
  "cells": [
    {
      "cell_type": "markdown",
      "metadata": {
        "id": "view-in-github",
        "colab_type": "text"
      },
      "source": [
        "<a href=\"https://colab.research.google.com/github/zachwooding/GIMM400Utilities/blob/master/FileSorter.ipynb\" target=\"_parent\"><img src=\"https://colab.research.google.com/assets/colab-badge.svg\" alt=\"Open In Colab\"/></a>"
      ]
    },
    {
      "cell_type": "code",
      "metadata": {
        "id": "XmVYRXkw9yxB",
        "colab_type": "code",
        "colab": {}
      },
      "source": [
        "import os\n",
        "import glob\n",
        "files_list = glob.glob(\"*\")\n",
        "\n",
        "extension_set = set()\n",
        "\n",
        "for file in files_list:\n",
        "  extension = file.split(sep=\".\")\n",
        "  try:\n",
        "    extension_set.add(extension[1])\n",
        "    except IndexError:\n",
        "      continue\n",
        "\n",
        "\n",
        "def createDirs():\n",
        "  for dir in extension_set:\n",
        "    try:\n",
        "      os.makedirs(dir+\"_files\")\n",
        "    except FileExistsError:\n",
        "      continue\n",
        "def arrange():\n",
        "  for file in files_list:\n",
        "    fext = file.split(\".\")\n",
        "    try:\n",
        "      os.rename(file, fext[1]+\"_files/\"+file)\n",
        "      except(OSError, IndexError):\n",
        "        continue\n",
        "createDirs()\n",
        "arrange()"
      ],
      "execution_count": 0,
      "outputs": []
    }
  ]
}